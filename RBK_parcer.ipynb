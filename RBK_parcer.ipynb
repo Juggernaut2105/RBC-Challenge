{
 "cells": [
  {
   "cell_type": "code",
   "execution_count": 1,
   "id": "313ab211",
   "metadata": {
    "id": "313ab211"
   },
   "outputs": [],
   "source": [
    "import pandas as pd"
   ]
  },
  {
   "cell_type": "code",
   "execution_count": 2,
   "id": "gSDhSvwHt19l",
   "metadata": {
    "colab": {
     "base_uri": "https://localhost:8080/"
    },
    "id": "gSDhSvwHt19l",
    "outputId": "c30823d1-d9fb-4160-ed1f-fbe67ed5f850"
   },
   "outputs": [
    {
     "name": "stdout",
     "output_type": "stream",
     "text": [
      "Mounted at /content/drive\n"
     ]
    }
   ],
   "source": [
    "# from google.colab import drive\n",
    "# drive.mount('/content/drive')"
   ]
  },
  {
   "cell_type": "code",
   "execution_count": 3,
   "id": "8Cee_8jdt2n_",
   "metadata": {
    "id": "8Cee_8jdt2n_"
   },
   "outputs": [],
   "source": [
    "# PATH = '/content/drive/MyDrive/Projects/RBK/'"
   ]
  },
  {
   "cell_type": "code",
   "execution_count": 2,
   "id": "5e151064",
   "metadata": {
    "id": "5e151064"
   },
   "outputs": [],
   "source": [
    "train = pd.read_csv('train_dataset_train.csv')\n",
    "test = pd.read_csv('test_dataset_test.csv')"
   ]
  },
  {
   "cell_type": "code",
   "execution_count": 3,
   "id": "r9CdPaGduVV9",
   "metadata": {
    "id": "r9CdPaGduVV9"
   },
   "outputs": [],
   "source": [
    "df = pd.concat([train, test], ignore_index=True)"
   ]
  },
  {
   "cell_type": "code",
   "execution_count": 4,
   "id": "2e62391b",
   "metadata": {
    "id": "2e62391b"
   },
   "outputs": [],
   "source": [
    "df['publish_date'] = pd.to_datetime(df['publish_date'])"
   ]
  },
  {
   "cell_type": "code",
   "execution_count": 5,
   "id": "64efbee3",
   "metadata": {
    "id": "64efbee3"
   },
   "outputs": [],
   "source": [
    "df['year']=df.publish_date.dt.year"
   ]
  },
  {
   "cell_type": "code",
   "execution_count": 6,
   "id": "8f39838c",
   "metadata": {
    "id": "8f39838c"
   },
   "outputs": [],
   "source": [
    "df['month']=df.publish_date.dt.month\n",
    "df['day']=df.publish_date.dt.day"
   ]
  },
  {
   "cell_type": "code",
   "execution_count": 10,
   "id": "ffea0f6f",
   "metadata": {
    "colab": {
     "base_uri": "https://localhost:8080/"
    },
    "id": "ffea0f6f",
    "outputId": "c7a557ff-6c96-4828-9e86-ab86094d3d15"
   },
   "outputs": [
    {
     "data": {
      "text/plain": [
       "Index(['document_id', 'title', 'publish_date', 'session', 'authors', 'ctr',\n",
       "       'category', 'tags', 'views', 'depth', 'full_reads_percent', 'year',\n",
       "       'month', 'day'],\n",
       "      dtype='object')"
      ]
     },
     "execution_count": 10,
     "metadata": {},
     "output_type": "execute_result"
    }
   ],
   "source": [
    "df.columns"
   ]
  },
  {
   "cell_type": "code",
   "execution_count": 7,
   "id": "37553a77",
   "metadata": {
    "id": "37553a77"
   },
   "outputs": [],
   "source": [
    "df = df.drop(columns=['session', 'authors', 'ctr',\n",
    "      'tags', 'views', 'depth', 'full_reads_percent'], axis=1)"
   ]
  },
  {
   "cell_type": "code",
   "execution_count": 8,
   "id": "ea30072e",
   "metadata": {
    "id": "ea30072e"
   },
   "outputs": [],
   "source": [
    "df['id']=df.document_id.apply(lambda x: x[0:24])"
   ]
  },
  {
   "cell_type": "code",
   "execution_count": 9,
   "id": "841bce51",
   "metadata": {
    "id": "841bce51"
   },
   "outputs": [],
   "source": [
    "def dt_con(x):\n",
    "    a=0\n",
    "    if x < 10:\n",
    "        a=str(0)+str(x)\n",
    "    else:\n",
    "        a=str(x)\n",
    "    return a"
   ]
  },
  {
   "cell_type": "code",
   "execution_count": 10,
   "id": "11645473",
   "metadata": {
    "id": "11645473"
   },
   "outputs": [],
   "source": [
    "df.month = df.month.apply(lambda x: dt_con(x))\n",
    "dfday_new=df.day.apply(lambda x: dt_con(x))"
   ]
  },
  {
   "cell_type": "code",
   "execution_count": 11,
   "id": "66ce0873",
   "metadata": {
    "id": "66ce0873"
   },
   "outputs": [],
   "source": [
    "def cat(x):\n",
    "    a=0\n",
    "    if x == '5409f11ce063da9c8b588a12':\n",
    "        a = 'politics'\n",
    "    elif x == '5433e5decbb20f277b20eca9':\n",
    "        a = 'society'\n",
    "    elif x == '5409f11ce063da9c8b588a13':\n",
    "        a = 'economics'\n",
    "    elif x == '540d5eafcbb20f2524fc0509' or x == '540d5ecacbb20f2524fc050a':\n",
    "        a = 'rbcfreenews' # no data\n",
    "    elif x == '5409f11ce063da9c8b588a18':\n",
    "        a = 'finances'\n",
    "    elif x == '5e54e2089a7947f63a801742':\n",
    "        a = 'auto'\n",
    "    elif x == '552e430f9a79475dd957f8b3':\n",
    "        a = 'money'\n",
    "    elif x == '5e54e22a9a7947f560081ea2':\n",
    "        a = 'realty'\n",
    "    return a\n"
   ]
  },
  {
   "cell_type": "code",
   "execution_count": 12,
   "id": "b7786cf6",
   "metadata": {
    "id": "b7786cf6"
   },
   "outputs": [],
   "source": [
    "df.category =df.category.apply(lambda x: cat(x))"
   ]
  },
  {
   "cell_type": "code",
   "execution_count": 13,
   "id": "edf4aeb1",
   "metadata": {
    "id": "edf4aeb1"
   },
   "outputs": [],
   "source": [
    "df['url'] = 'https://www.rbc.ru'\n",
    "# url = 'https://www.rbc.ru'"
   ]
  },
  {
   "cell_type": "code",
   "execution_count": 14,
   "id": "0863cdd9",
   "metadata": {
    "id": "0863cdd9"
   },
   "outputs": [],
   "source": [
    "df.year = df.year.astype('str')\n",
    "df.day = df.day.astype('str')"
   ]
  },
  {
   "cell_type": "code",
   "execution_count": null,
   "id": "583752d7",
   "metadata": {
    "id": "583752d7"
   },
   "outputs": [],
   "source": [
    "# df['year_new']=df['year'].apply(lambda x: dt_con(x))"
   ]
  },
  {
   "cell_type": "code",
   "execution_count": 15,
   "id": "9a2e20c9",
   "metadata": {
    "colab": {
     "base_uri": "https://localhost:8080/"
    },
    "id": "9a2e20c9",
    "outputId": "929c6c96-757a-4237-acdb-9b7d07936b7b"
   },
   "outputs": [
    {
     "name": "stdout",
     "output_type": "stream",
     "text": [
      "<class 'pandas.core.frame.DataFrame'>\n",
      "RangeIndex: 10000 entries, 0 to 9999\n",
      "Data columns (total 9 columns):\n",
      " #   Column        Non-Null Count  Dtype         \n",
      "---  ------        --------------  -----         \n",
      " 0   document_id   10000 non-null  object        \n",
      " 1   title         10000 non-null  object        \n",
      " 2   publish_date  10000 non-null  datetime64[ns]\n",
      " 3   category      10000 non-null  object        \n",
      " 4   year          10000 non-null  object        \n",
      " 5   month         10000 non-null  object        \n",
      " 6   day           10000 non-null  object        \n",
      " 7   id            10000 non-null  object        \n",
      " 8   url           10000 non-null  object        \n",
      "dtypes: datetime64[ns](1), object(8)\n",
      "memory usage: 703.2+ KB\n"
     ]
    }
   ],
   "source": [
    "df.info()"
   ]
  },
  {
   "cell_type": "code",
   "execution_count": 16,
   "id": "e1e8d45c",
   "metadata": {
    "id": "e1e8d45c"
   },
   "outputs": [],
   "source": [
    "df['url2']= df[['url','category', 'day', 'month', 'year','id']].agg('/'.join, axis=1)"
   ]
  },
  {
   "cell_type": "code",
   "execution_count": 17,
   "id": "15af3c08",
   "metadata": {
    "id": "15af3c08"
   },
   "outputs": [],
   "source": [
    "import requests\n",
    "from bs4 import BeautifulSoup as bs\n",
    "from pprint import pprint"
   ]
  },
  {
   "cell_type": "code",
   "execution_count": 18,
   "id": "_8H5aICqw-yi",
   "metadata": {
    "id": "_8H5aICqw-yi"
   },
   "outputs": [],
   "source": [
    "def sub(url):\n",
    "    b = []\n",
    "    response = requests.get(url)\n",
    "    dom = bs(response.text, 'html.parser')\n",
    "    if response.ok:\n",
    "\n",
    "        sub = dom.find_all('div', class_=\"article__text__overview\")\n",
    "        b.append(sub)\n",
    "\n",
    "    return b\n"
   ]
  },
  {
   "cell_type": "code",
   "execution_count": 19,
   "id": "Mjtd_9Z6xSsL",
   "metadata": {
    "id": "Mjtd_9Z6xSsL"
   },
   "outputs": [],
   "source": [
    "def bod(url):\n",
    "    b = []\n",
    "    response = requests.get(url)\n",
    "    dom = bs(response.text, 'html.parser')\n",
    "    if response.ok:\n",
    "        body = dom.find_all('p')\n",
    "        b.append(body)\n",
    "\n",
    "    return b\n"
   ]
  },
  {
   "cell_type": "code",
   "execution_count": 32,
   "id": "99677c91",
   "metadata": {
    "id": "99677c91"
   },
   "outputs": [],
   "source": [
    "b=df['url2'][10]"
   ]
  },
  {
   "cell_type": "code",
   "execution_count": 40,
   "id": "c86d8c41",
   "metadata": {
    "colab": {
     "base_uri": "https://localhost:8080/",
     "height": 328
    },
    "id": "c86d8c41",
    "outputId": "f3dbaee3-7a5b-475e-8e9a-c3e17b7782d3"
   },
   "outputs": [
    {
     "data": {
      "text/html": [
       "\n",
       "  <div id=\"df-a756b47d-f32d-4f7f-a8a5-eaa26bead074\">\n",
       "    <div class=\"colab-df-container\">\n",
       "      <div>\n",
       "<style scoped>\n",
       "    .dataframe tbody tr th:only-of-type {\n",
       "        vertical-align: middle;\n",
       "    }\n",
       "\n",
       "    .dataframe tbody tr th {\n",
       "        vertical-align: top;\n",
       "    }\n",
       "\n",
       "    .dataframe thead th {\n",
       "        text-align: right;\n",
       "    }\n",
       "</style>\n",
       "<table border=\"1\" class=\"dataframe\">\n",
       "  <thead>\n",
       "    <tr style=\"text-align: right;\">\n",
       "      <th></th>\n",
       "      <th>document_id</th>\n",
       "      <th>title</th>\n",
       "      <th>publish_date</th>\n",
       "      <th>category</th>\n",
       "      <th>year</th>\n",
       "      <th>month</th>\n",
       "      <th>day</th>\n",
       "      <th>id</th>\n",
       "      <th>url</th>\n",
       "      <th>url2</th>\n",
       "      <th>prs</th>\n",
       "    </tr>\n",
       "  </thead>\n",
       "  <tbody>\n",
       "    <tr>\n",
       "      <th>0</th>\n",
       "      <td>624ac09c9a7947db3d80c98eIDE7mtH4RBqGn-8MXfGffQ</td>\n",
       "      <td>Европейский банк развития приостановил доступ ...</td>\n",
       "      <td>2022-04-04 10:29:44</td>\n",
       "      <td>finances</td>\n",
       "      <td>2022</td>\n",
       "      <td>04</td>\n",
       "      <td>4</td>\n",
       "      <td>624ac09c9a7947db3d80c98e</td>\n",
       "      <td>https://www.rbc.ru</td>\n",
       "      <td>https://www.rbc.ru/finances/4/04/2022/624ac09c...</td>\n",
       "      <td>0</td>\n",
       "    </tr>\n",
       "    <tr>\n",
       "      <th>1</th>\n",
       "      <td>620f6b899a7947701cf489e1KtVJsteHStO5oditt3Uvzw</td>\n",
       "      <td>Кремль назвал регулярным процессом учебные зап...</td>\n",
       "      <td>2022-02-18 10:00:39</td>\n",
       "      <td>politics</td>\n",
       "      <td>2022</td>\n",
       "      <td>02</td>\n",
       "      <td>18</td>\n",
       "      <td>620f6b899a7947701cf489e1</td>\n",
       "      <td>https://www.rbc.ru</td>\n",
       "      <td>https://www.rbc.ru/politics/18/02/2022/620f6b8...</td>\n",
       "      <td>0</td>\n",
       "    </tr>\n",
       "  </tbody>\n",
       "</table>\n",
       "</div>\n",
       "      <button class=\"colab-df-convert\" onclick=\"convertToInteractive('df-a756b47d-f32d-4f7f-a8a5-eaa26bead074')\"\n",
       "              title=\"Convert this dataframe to an interactive table.\"\n",
       "              style=\"display:none;\">\n",
       "        \n",
       "  <svg xmlns=\"http://www.w3.org/2000/svg\" height=\"24px\"viewBox=\"0 0 24 24\"\n",
       "       width=\"24px\">\n",
       "    <path d=\"M0 0h24v24H0V0z\" fill=\"none\"/>\n",
       "    <path d=\"M18.56 5.44l.94 2.06.94-2.06 2.06-.94-2.06-.94-.94-2.06-.94 2.06-2.06.94zm-11 1L8.5 8.5l.94-2.06 2.06-.94-2.06-.94L8.5 2.5l-.94 2.06-2.06.94zm10 10l.94 2.06.94-2.06 2.06-.94-2.06-.94-.94-2.06-.94 2.06-2.06.94z\"/><path d=\"M17.41 7.96l-1.37-1.37c-.4-.4-.92-.59-1.43-.59-.52 0-1.04.2-1.43.59L10.3 9.45l-7.72 7.72c-.78.78-.78 2.05 0 2.83L4 21.41c.39.39.9.59 1.41.59.51 0 1.02-.2 1.41-.59l7.78-7.78 2.81-2.81c.8-.78.8-2.07 0-2.86zM5.41 20L4 18.59l7.72-7.72 1.47 1.35L5.41 20z\"/>\n",
       "  </svg>\n",
       "      </button>\n",
       "      \n",
       "  <style>\n",
       "    .colab-df-container {\n",
       "      display:flex;\n",
       "      flex-wrap:wrap;\n",
       "      gap: 12px;\n",
       "    }\n",
       "\n",
       "    .colab-df-convert {\n",
       "      background-color: #E8F0FE;\n",
       "      border: none;\n",
       "      border-radius: 50%;\n",
       "      cursor: pointer;\n",
       "      display: none;\n",
       "      fill: #1967D2;\n",
       "      height: 32px;\n",
       "      padding: 0 0 0 0;\n",
       "      width: 32px;\n",
       "    }\n",
       "\n",
       "    .colab-df-convert:hover {\n",
       "      background-color: #E2EBFA;\n",
       "      box-shadow: 0px 1px 2px rgba(60, 64, 67, 0.3), 0px 1px 3px 1px rgba(60, 64, 67, 0.15);\n",
       "      fill: #174EA6;\n",
       "    }\n",
       "\n",
       "    [theme=dark] .colab-df-convert {\n",
       "      background-color: #3B4455;\n",
       "      fill: #D2E3FC;\n",
       "    }\n",
       "\n",
       "    [theme=dark] .colab-df-convert:hover {\n",
       "      background-color: #434B5C;\n",
       "      box-shadow: 0px 1px 3px 1px rgba(0, 0, 0, 0.15);\n",
       "      filter: drop-shadow(0px 1px 2px rgba(0, 0, 0, 0.3));\n",
       "      fill: #FFFFFF;\n",
       "    }\n",
       "  </style>\n",
       "\n",
       "      <script>\n",
       "        const buttonEl =\n",
       "          document.querySelector('#df-a756b47d-f32d-4f7f-a8a5-eaa26bead074 button.colab-df-convert');\n",
       "        buttonEl.style.display =\n",
       "          google.colab.kernel.accessAllowed ? 'block' : 'none';\n",
       "\n",
       "        async function convertToInteractive(key) {\n",
       "          const element = document.querySelector('#df-a756b47d-f32d-4f7f-a8a5-eaa26bead074');\n",
       "          const dataTable =\n",
       "            await google.colab.kernel.invokeFunction('convertToInteractive',\n",
       "                                                     [key], {});\n",
       "          if (!dataTable) return;\n",
       "\n",
       "          const docLinkHtml = 'Like what you see? Visit the ' +\n",
       "            '<a target=\"_blank\" href=https://colab.research.google.com/notebooks/data_table.ipynb>data table notebook</a>'\n",
       "            + ' to learn more about interactive tables.';\n",
       "          element.innerHTML = '';\n",
       "          dataTable['output_type'] = 'display_data';\n",
       "          await google.colab.output.renderOutput(dataTable, element);\n",
       "          const docLink = document.createElement('div');\n",
       "          docLink.innerHTML = docLinkHtml;\n",
       "          element.appendChild(docLink);\n",
       "        }\n",
       "      </script>\n",
       "    </div>\n",
       "  </div>\n",
       "  "
      ],
      "text/plain": [
       "                                      document_id  \\\n",
       "0  624ac09c9a7947db3d80c98eIDE7mtH4RBqGn-8MXfGffQ   \n",
       "1  620f6b899a7947701cf489e1KtVJsteHStO5oditt3Uvzw   \n",
       "\n",
       "                                               title        publish_date  \\\n",
       "0  Европейский банк развития приостановил доступ ... 2022-04-04 10:29:44   \n",
       "1  Кремль назвал регулярным процессом учебные зап... 2022-02-18 10:00:39   \n",
       "\n",
       "   category  year month day                        id                 url  \\\n",
       "0  finances  2022    04   4  624ac09c9a7947db3d80c98e  https://www.rbc.ru   \n",
       "1  politics  2022    02  18  620f6b899a7947701cf489e1  https://www.rbc.ru   \n",
       "\n",
       "                                                url2 prs  \n",
       "0  https://www.rbc.ru/finances/4/04/2022/624ac09c...   0  \n",
       "1  https://www.rbc.ru/politics/18/02/2022/620f6b8...   0  "
      ]
     },
     "execution_count": 40,
     "metadata": {},
     "output_type": "execute_result"
    }
   ],
   "source": [
    "df.head(2)"
   ]
  },
  {
   "cell_type": "code",
   "execution_count": 21,
   "id": "0oB58DO0yIR1",
   "metadata": {
    "id": "0oB58DO0yIR1"
   },
   "outputs": [],
   "source": [
    "df['subtitle']='0'\n",
    "df['body']='0'"
   ]
  },
  {
   "cell_type": "code",
   "execution_count": 22,
   "id": "549b1fbc",
   "metadata": {
    "colab": {
     "base_uri": "https://localhost:8080/"
    },
    "id": "549b1fbc",
    "outputId": "142d73e0-5983-4d0f-a9d6-f90261fc0b73"
   },
   "outputs": [
    {
     "name": "stderr",
     "output_type": "stream",
     "text": [
      "/var/folders/v8/9ljqp91d0pz2t93nf7r4kqjh0000gn/T/ipykernel_14015/3635217114.py:2: SettingWithCopyWarning: \n",
      "A value is trying to be set on a copy of a slice from a DataFrame\n",
      "\n",
      "See the caveats in the documentation: https://pandas.pydata.org/pandas-docs/stable/user_guide/indexing.html#returning-a-view-versus-a-copy\n",
      "  df['subtitle'][i]=sub(df['url2'][i])\n",
      "/var/folders/v8/9ljqp91d0pz2t93nf7r4kqjh0000gn/T/ipykernel_14015/3635217114.py:3: SettingWithCopyWarning: \n",
      "A value is trying to be set on a copy of a slice from a DataFrame\n",
      "\n",
      "See the caveats in the documentation: https://pandas.pydata.org/pandas-docs/stable/user_guide/indexing.html#returning-a-view-versus-a-copy\n",
      "  df['body'][i]=bod(df['url2'][i])\n"
     ]
    }
   ],
   "source": [
    "for i in range(0, 2000):\n",
    "    df['subtitle'][i]=sub(df['url2'][i])\n",
    "    df['body'][i]=bod(df['url2'][i])"
   ]
  },
  {
   "cell_type": "code",
   "execution_count": 24,
   "id": "02x_tLqN3Fhd",
   "metadata": {
    "id": "02x_tLqN3Fhd"
   },
   "outputs": [
    {
     "name": "stderr",
     "output_type": "stream",
     "text": [
      "/var/folders/v8/9ljqp91d0pz2t93nf7r4kqjh0000gn/T/ipykernel_14015/960364172.py:2: SettingWithCopyWarning: \n",
      "A value is trying to be set on a copy of a slice from a DataFrame\n",
      "\n",
      "See the caveats in the documentation: https://pandas.pydata.org/pandas-docs/stable/user_guide/indexing.html#returning-a-view-versus-a-copy\n",
      "  df['subtitle'][i]=sub(df['url2'][i])\n",
      "/var/folders/v8/9ljqp91d0pz2t93nf7r4kqjh0000gn/T/ipykernel_14015/960364172.py:3: SettingWithCopyWarning: \n",
      "A value is trying to be set on a copy of a slice from a DataFrame\n",
      "\n",
      "See the caveats in the documentation: https://pandas.pydata.org/pandas-docs/stable/user_guide/indexing.html#returning-a-view-versus-a-copy\n",
      "  df['body'][i]=bod(df['url2'][i])\n"
     ]
    }
   ],
   "source": [
    "for i in range(2000, 10000):\n",
    "    df['subtitle'][i]=sub(df['url2'][i])\n",
    "    df['body'][i]=bod(df['url2'][i])"
   ]
  },
  {
   "cell_type": "code",
   "execution_count": 29,
   "id": "248033b2",
   "metadata": {
    "id": "248033b2",
    "outputId": "31736d87-5ccf-4806-e95f-878446d2e9d2"
   },
   "outputs": [
    {
     "data": {
      "text/html": [
       "<div>\n",
       "<style scoped>\n",
       "    .dataframe tbody tr th:only-of-type {\n",
       "        vertical-align: middle;\n",
       "    }\n",
       "\n",
       "    .dataframe tbody tr th {\n",
       "        vertical-align: top;\n",
       "    }\n",
       "\n",
       "    .dataframe thead th {\n",
       "        text-align: right;\n",
       "    }\n",
       "</style>\n",
       "<table border=\"1\" class=\"dataframe\">\n",
       "  <thead>\n",
       "    <tr style=\"text-align: right;\">\n",
       "      <th></th>\n",
       "      <th>title</th>\n",
       "      <th>subtitle</th>\n",
       "      <th>body</th>\n",
       "    </tr>\n",
       "  </thead>\n",
       "  <tbody>\n",
       "    <tr>\n",
       "      <th>0</th>\n",
       "      <td>Европейский банк развития приостановил доступ ...</td>\n",
       "      <td>[]</td>\n",
       "      <td>[]</td>\n",
       "    </tr>\n",
       "    <tr>\n",
       "      <th>1</th>\n",
       "      <td>Кремль назвал регулярным процессом учебные зап...</td>\n",
       "      <td>[[[\\n, &lt;span&gt;Все страны, которым положено знат...</td>\n",
       "      <td>[[[Учения стратегических сил с запусками балли...</td>\n",
       "    </tr>\n",
       "    <tr>\n",
       "      <th>2</th>\n",
       "      <td>Госсекретарь Швеции заявила о нежелании вступа...</td>\n",
       "      <td>[[]]</td>\n",
       "      <td>[[[Эскалация на Украине не дала повода Швеции ...</td>\n",
       "    </tr>\n",
       "    <tr>\n",
       "      <th>3</th>\n",
       "      <td>Песков назвал прагматичной выдачу лицензии Газ...</td>\n",
       "      <td>[[]]</td>\n",
       "      <td>[[[Решение Великобритании выдать Газпромбанку ...</td>\n",
       "    </tr>\n",
       "    <tr>\n",
       "      <th>4</th>\n",
       "      <td>В Хабаровске задержали главу филиала РАНХиГС п...</td>\n",
       "      <td>[[]]</td>\n",
       "      <td>[[[Глава дальневосточного филиала Российской а...</td>\n",
       "    </tr>\n",
       "    <tr>\n",
       "      <th>5</th>\n",
       "      <td>Глава ВОЗ заявил о росте смертности из-за COVI...</td>\n",
       "      <td>[]</td>\n",
       "      <td>[]</td>\n",
       "    </tr>\n",
       "    <tr>\n",
       "      <th>6</th>\n",
       "      <td>Третий за день губернатор объявил об уходе</td>\n",
       "      <td>[[[\\n, &lt;span&gt;Вслед за главами Томской и Кировс...</td>\n",
       "      <td>[[[Губернатор Рязанской области Николай Любимо...</td>\n",
       "    </tr>\n",
       "    <tr>\n",
       "      <th>7</th>\n",
       "      <td>Губернатор сообщил о попытке самолета ВСУ попа...</td>\n",
       "      <td>[[[\\n, &lt;span&gt;По словам Александра Богомаза, дв...</td>\n",
       "      <td>[[[Российская система ПВО не допустила проникн...</td>\n",
       "    </tr>\n",
       "    <tr>\n",
       "      <th>8</th>\n",
       "      <td>Антонов заявил о межпартийном консенсусе США п...</td>\n",
       "      <td>[]</td>\n",
       "      <td>[]</td>\n",
       "    </tr>\n",
       "    <tr>\n",
       "      <th>9</th>\n",
       "      <td>Опубликовавшая время вторжения The Mirror напи...</td>\n",
       "      <td>[[]]</td>\n",
       "      <td>[[[Опубликовавшая время вторжения России на Ук...</td>\n",
       "    </tr>\n",
       "    <tr>\n",
       "      <th>10</th>\n",
       "      <td>Медведев обвинил Зеленского в выдвижении «невы...</td>\n",
       "      <td>[[[\\n, &lt;span&gt;Зеленский выдвигает России «катег...</td>\n",
       "      <td>[[[Условия перемирия, которые предлагают украи...</td>\n",
       "    </tr>\n",
       "    <tr>\n",
       "      <th>11</th>\n",
       "      <td>SpaceX запустила ракету Falcon 9 с итальянским...</td>\n",
       "      <td>[]</td>\n",
       "      <td>[]</td>\n",
       "    </tr>\n",
       "    <tr>\n",
       "      <th>12</th>\n",
       "      <td>Reuters узнал, что в КНДР сочли неискренней по...</td>\n",
       "      <td>[[]]</td>\n",
       "      <td>[[[Власти Северной Кореи не отреагировали на п...</td>\n",
       "    </tr>\n",
       "    <tr>\n",
       "      <th>13</th>\n",
       "      <td>«Известия» показали кадры с места пропажи экс-...</td>\n",
       "      <td>[]</td>\n",
       "      <td>[]</td>\n",
       "    </tr>\n",
       "    <tr>\n",
       "      <th>14</th>\n",
       "      <td>Захарова предупредила об ответных мерах России...</td>\n",
       "      <td>[]</td>\n",
       "      <td>[]</td>\n",
       "    </tr>\n",
       "    <tr>\n",
       "      <th>15</th>\n",
       "      <td>Производители алкоголя сообщили о проблемах с ...</td>\n",
       "      <td>[]</td>\n",
       "      <td>[]</td>\n",
       "    </tr>\n",
       "    <tr>\n",
       "      <th>16</th>\n",
       "      <td>Боррель заявил об истощении военных запасов ЕС...</td>\n",
       "      <td>[[[\\n, &lt;span&gt;Европа должна заняться укрепление...</td>\n",
       "      <td>[[[Европа должна укрепить свой оборонный потен...</td>\n",
       "    </tr>\n",
       "    <tr>\n",
       "      <th>17</th>\n",
       "      <td>Шойгу сообщил о расширении контроля над террит...</td>\n",
       "      <td>[]</td>\n",
       "      <td>[]</td>\n",
       "    </tr>\n",
       "    <tr>\n",
       "      <th>18</th>\n",
       "      <td>Эрдоган переговорил с Абрамовичем перед встреч...</td>\n",
       "      <td>[[[\\n, &lt;span&gt;Абрамович присутствует в зале дво...</td>\n",
       "      <td>[[[Бизнесмен Роман Абрамович перед началом пер...</td>\n",
       "    </tr>\n",
       "    <tr>\n",
       "      <th>19</th>\n",
       "      <td>В Москве женщина выкинула младенца с четвертог...</td>\n",
       "      <td>[[]]</td>\n",
       "      <td>[[[«Женщина после домашних родов поместила реб...</td>\n",
       "    </tr>\n",
       "  </tbody>\n",
       "</table>\n",
       "</div>"
      ],
      "text/plain": [
       "                                                title  \\\n",
       "0   Европейский банк развития приостановил доступ ...   \n",
       "1   Кремль назвал регулярным процессом учебные зап...   \n",
       "2   Госсекретарь Швеции заявила о нежелании вступа...   \n",
       "3   Песков назвал прагматичной выдачу лицензии Газ...   \n",
       "4   В Хабаровске задержали главу филиала РАНХиГС п...   \n",
       "5   Глава ВОЗ заявил о росте смертности из-за COVI...   \n",
       "6          Третий за день губернатор объявил об уходе   \n",
       "7   Губернатор сообщил о попытке самолета ВСУ попа...   \n",
       "8   Антонов заявил о межпартийном консенсусе США п...   \n",
       "9   Опубликовавшая время вторжения The Mirror напи...   \n",
       "10  Медведев обвинил Зеленского в выдвижении «невы...   \n",
       "11  SpaceX запустила ракету Falcon 9 с итальянским...   \n",
       "12  Reuters узнал, что в КНДР сочли неискренней по...   \n",
       "13  «Известия» показали кадры с места пропажи экс-...   \n",
       "14  Захарова предупредила об ответных мерах России...   \n",
       "15  Производители алкоголя сообщили о проблемах с ...   \n",
       "16  Боррель заявил об истощении военных запасов ЕС...   \n",
       "17  Шойгу сообщил о расширении контроля над террит...   \n",
       "18  Эрдоган переговорил с Абрамовичем перед встреч...   \n",
       "19  В Москве женщина выкинула младенца с четвертог...   \n",
       "\n",
       "                                             subtitle  \\\n",
       "0                                                  []   \n",
       "1   [[[\\n, <span>Все страны, которым положено знат...   \n",
       "2                                                [[]]   \n",
       "3                                                [[]]   \n",
       "4                                                [[]]   \n",
       "5                                                  []   \n",
       "6   [[[\\n, <span>Вслед за главами Томской и Кировс...   \n",
       "7   [[[\\n, <span>По словам Александра Богомаза, дв...   \n",
       "8                                                  []   \n",
       "9                                                [[]]   \n",
       "10  [[[\\n, <span>Зеленский выдвигает России «катег...   \n",
       "11                                                 []   \n",
       "12                                               [[]]   \n",
       "13                                                 []   \n",
       "14                                                 []   \n",
       "15                                                 []   \n",
       "16  [[[\\n, <span>Европа должна заняться укрепление...   \n",
       "17                                                 []   \n",
       "18  [[[\\n, <span>Абрамович присутствует в зале дво...   \n",
       "19                                               [[]]   \n",
       "\n",
       "                                                 body  \n",
       "0                                                  []  \n",
       "1   [[[Учения стратегических сил с запусками балли...  \n",
       "2   [[[Эскалация на Украине не дала повода Швеции ...  \n",
       "3   [[[Решение Великобритании выдать Газпромбанку ...  \n",
       "4   [[[Глава дальневосточного филиала Российской а...  \n",
       "5                                                  []  \n",
       "6   [[[Губернатор Рязанской области Николай Любимо...  \n",
       "7   [[[Российская система ПВО не допустила проникн...  \n",
       "8                                                  []  \n",
       "9   [[[Опубликовавшая время вторжения России на Ук...  \n",
       "10  [[[Условия перемирия, которые предлагают украи...  \n",
       "11                                                 []  \n",
       "12  [[[Власти Северной Кореи не отреагировали на п...  \n",
       "13                                                 []  \n",
       "14                                                 []  \n",
       "15                                                 []  \n",
       "16  [[[Европа должна укрепить свой оборонный потен...  \n",
       "17                                                 []  \n",
       "18  [[[Бизнесмен Роман Абрамович перед началом пер...  \n",
       "19  [[[«Женщина после домашних родов поместила реб...  "
      ]
     },
     "execution_count": 29,
     "metadata": {},
     "output_type": "execute_result"
    }
   ],
   "source": [
    "df[['title','subtitle','body']].head(20)"
   ]
  },
  {
   "cell_type": "code",
   "execution_count": 30,
   "id": "cf7fdaa6",
   "metadata": {
    "id": "cf7fdaa6",
    "outputId": "5c43683d-b96d-4f53-f03a-e6445ff4d635",
    "scrolled": true
   },
   "outputs": [],
   "source": [
    "df=df.drop(columns=['year', 'day', 'month', 'url', 'url2', 'publish_date', 'id'], axis=1)"
   ]
  },
  {
   "cell_type": "code",
   "execution_count": 31,
   "id": "22e13c39",
   "metadata": {},
   "outputs": [
    {
     "data": {
      "text/html": [
       "<div>\n",
       "<style scoped>\n",
       "    .dataframe tbody tr th:only-of-type {\n",
       "        vertical-align: middle;\n",
       "    }\n",
       "\n",
       "    .dataframe tbody tr th {\n",
       "        vertical-align: top;\n",
       "    }\n",
       "\n",
       "    .dataframe thead th {\n",
       "        text-align: right;\n",
       "    }\n",
       "</style>\n",
       "<table border=\"1\" class=\"dataframe\">\n",
       "  <thead>\n",
       "    <tr style=\"text-align: right;\">\n",
       "      <th></th>\n",
       "      <th>document_id</th>\n",
       "      <th>title</th>\n",
       "      <th>category</th>\n",
       "      <th>subtitle</th>\n",
       "      <th>body</th>\n",
       "    </tr>\n",
       "  </thead>\n",
       "  <tbody>\n",
       "    <tr>\n",
       "      <th>0</th>\n",
       "      <td>624ac09c9a7947db3d80c98eIDE7mtH4RBqGn-8MXfGffQ</td>\n",
       "      <td>Европейский банк развития приостановил доступ ...</td>\n",
       "      <td>finances</td>\n",
       "      <td>[]</td>\n",
       "      <td>[]</td>\n",
       "    </tr>\n",
       "    <tr>\n",
       "      <th>1</th>\n",
       "      <td>620f6b899a7947701cf489e1KtVJsteHStO5oditt3Uvzw</td>\n",
       "      <td>Кремль назвал регулярным процессом учебные зап...</td>\n",
       "      <td>politics</td>\n",
       "      <td>[[[\\n, &lt;span&gt;Все страны, которым положено знат...</td>\n",
       "      <td>[[[Учения стратегических сил с запусками балли...</td>\n",
       "    </tr>\n",
       "    <tr>\n",
       "      <th>2</th>\n",
       "      <td>620730cf9a7947ab96a44e27hk7puWJwSziw0m3sfTkKWA</td>\n",
       "      <td>Госсекретарь Швеции заявила о нежелании вступа...</td>\n",
       "      <td>politics</td>\n",
       "      <td>[[]]</td>\n",
       "      <td>[[[Эскалация на Украине не дала повода Швеции ...</td>\n",
       "    </tr>\n",
       "    <tr>\n",
       "      <th>3</th>\n",
       "      <td>6262a5889a79470b78c9ca307UKY2SSZTjCcjhwBzxw37w</td>\n",
       "      <td>Песков назвал прагматичной выдачу лицензии Газ...</td>\n",
       "      <td>politics</td>\n",
       "      <td>[[]]</td>\n",
       "      <td>[[[Решение Великобритании выдать Газпромбанку ...</td>\n",
       "    </tr>\n",
       "    <tr>\n",
       "      <th>4</th>\n",
       "      <td>626678929a79477ca0101568wuMYES90REuV5YhrN75IXg</td>\n",
       "      <td>В Хабаровске задержали главу филиала РАНХиГС п...</td>\n",
       "      <td>society</td>\n",
       "      <td>[[]]</td>\n",
       "      <td>[[[Глава дальневосточного филиала Российской а...</td>\n",
       "    </tr>\n",
       "  </tbody>\n",
       "</table>\n",
       "</div>"
      ],
      "text/plain": [
       "                                      document_id  \\\n",
       "0  624ac09c9a7947db3d80c98eIDE7mtH4RBqGn-8MXfGffQ   \n",
       "1  620f6b899a7947701cf489e1KtVJsteHStO5oditt3Uvzw   \n",
       "2  620730cf9a7947ab96a44e27hk7puWJwSziw0m3sfTkKWA   \n",
       "3  6262a5889a79470b78c9ca307UKY2SSZTjCcjhwBzxw37w   \n",
       "4  626678929a79477ca0101568wuMYES90REuV5YhrN75IXg   \n",
       "\n",
       "                                               title  category  \\\n",
       "0  Европейский банк развития приостановил доступ ...  finances   \n",
       "1  Кремль назвал регулярным процессом учебные зап...  politics   \n",
       "2  Госсекретарь Швеции заявила о нежелании вступа...  politics   \n",
       "3  Песков назвал прагматичной выдачу лицензии Газ...  politics   \n",
       "4  В Хабаровске задержали главу филиала РАНХиГС п...   society   \n",
       "\n",
       "                                            subtitle  \\\n",
       "0                                                 []   \n",
       "1  [[[\\n, <span>Все страны, которым положено знат...   \n",
       "2                                               [[]]   \n",
       "3                                               [[]]   \n",
       "4                                               [[]]   \n",
       "\n",
       "                                                body  \n",
       "0                                                 []  \n",
       "1  [[[Учения стратегических сил с запусками балли...  \n",
       "2  [[[Эскалация на Украине не дала повода Швеции ...  \n",
       "3  [[[Решение Великобритании выдать Газпромбанку ...  \n",
       "4  [[[Глава дальневосточного филиала Российской а...  "
      ]
     },
     "execution_count": 31,
     "metadata": {},
     "output_type": "execute_result"
    }
   ],
   "source": [
    "df.head()"
   ]
  },
  {
   "cell_type": "code",
   "execution_count": 32,
   "id": "f8a8e40a",
   "metadata": {
    "id": "f8a8e40a"
   },
   "outputs": [],
   "source": [
    "df.to_csv('text_dirty.csv')"
   ]
  },
  {
   "cell_type": "code",
   "execution_count": null,
   "id": "4a14285b",
   "metadata": {},
   "outputs": [],
   "source": []
  }
 ],
 "metadata": {
  "colab": {
   "name": "RBK parcer.ipynb",
   "provenance": []
  },
  "kernelspec": {
   "display_name": "Python 3 (ipykernel)",
   "language": "python",
   "name": "python3"
  },
  "language_info": {
   "codemirror_mode": {
    "name": "ipython",
    "version": 3
   },
   "file_extension": ".py",
   "mimetype": "text/x-python",
   "name": "python",
   "nbconvert_exporter": "python",
   "pygments_lexer": "ipython3",
   "version": "3.9.6"
  }
 },
 "nbformat": 4,
 "nbformat_minor": 5
}
